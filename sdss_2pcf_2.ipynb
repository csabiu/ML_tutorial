{
  "nbformat": 4,
  "nbformat_minor": 0,
  "metadata": {
    "colab": {
      "name": "sdss_2pcf.ipynb",
      "provenance": [],
      "collapsed_sections": [],
      "authorship_tag": "ABX9TyM/iEUIwd1/+dcPaFTQb9R9",
      "include_colab_link": true
    },
    "kernelspec": {
      "name": "python3",
      "display_name": "Python 3"
    },
    "language_info": {
      "name": "python"
    }
  },
  "cells": [
    {
      "cell_type": "markdown",
      "metadata": {
        "id": "view-in-github",
        "colab_type": "text"
      },
      "source": [
        "<a href=\"https://colab.research.google.com/github/csabiu/ML_tutorial/blob/master/sdss_2pcf_2.ipynb\" target=\"_parent\"><img src=\"https://colab.research.google.com/assets/colab-badge.svg\" alt=\"Open In Colab\"/></a>"
      ]
    },
    {
      "cell_type": "markdown",
      "metadata": {
        "id": "gVXApG7VX7uw"
      },
      "source": [
        "This notebook will guide you through a realistic analysis of galaxy survey data.\n",
        "We will download real data and then measure its 2-point correlation function.\n",
        "We will make a theoretical prediction of the 2-point correlaiton function and compare with that of the observation."
      ]
    },
    {
      "cell_type": "code",
      "metadata": {
        "id": "qNfnLTB580i2"
      },
      "source": [
        "import scipy\n",
        "from astropy.io import fits\n",
        "import numpy as np\n",
        "import matplotlib.pyplot as plt\n",
        "import os\n",
        "import sys\n",
        "plt.rcParams.update({'font.size': 15})\n",
        "plt.rcParams.update({'figure.figsize': [10.0, 10.0]})"
      ],
      "execution_count": 31,
      "outputs": []
    },
    {
      "cell_type": "markdown",
      "metadata": {
        "id": "iOhydzPlZkDR"
      },
      "source": [
        "Install CAMB for theory prediction \\\\\n",
        "Install KSTAT for making measurement"
      ]
    },
    {
      "cell_type": "code",
      "metadata": {
        "id": "bRP4stSv9oVm"
      },
      "source": [
        "!pip install camb\n",
        "!git clone https://github.com/csabiu/kstat.git"
      ],
      "execution_count": null,
      "outputs": []
    },
    {
      "cell_type": "markdown",
      "metadata": {
        "id": "DbeGsCUOZ7ug"
      },
      "source": [
        "Make KSTAT manually"
      ]
    },
    {
      "cell_type": "code",
      "metadata": {
        "id": "I-H6uF0kBfju"
      },
      "source": [
        "output = os.system(\"cd kstat/src; make ; cd ../../\")"
      ],
      "execution_count": 3,
      "outputs": []
    },
    {
      "cell_type": "markdown",
      "metadata": {
        "id": "_riujs6SOLJJ"
      },
      "source": [
        "### Download SDSS eBOSS DR12 CMASS data and random catalogs\n",
        "search in https://data.sdss.org/sas/ for other catalogues if you want to try a different target eg, ELG, QSO - or even newer eBOSS data!"
      ]
    },
    {
      "cell_type": "code",
      "metadata": {
        "collapsed": true,
        "id": "6jgJupQC__cH"
      },
      "source": [
        "!wget https://data.sdss.org/sas/dr12/boss/lss/galaxy_DR12v5_CMASS_South.fits.gz\n",
        "!wget https://data.sdss.org/sas/dr12/boss/lss/random0_DR12v5_CMASS_South.fits.gz"
      ],
      "execution_count": null,
      "outputs": []
    },
    {
      "cell_type": "markdown",
      "metadata": {
        "id": "pcmYn5PoOTdY"
      },
      "source": [
        "### Extract relavent columns from the fits file\n",
        "Angular positions (RA, dec), redshift (z) and weights"
      ]
    },
    {
      "cell_type": "code",
      "metadata": {
        "id": "hfii-kbLA2IT"
      },
      "source": [
        "hdul = fits.open('galaxy_DR12v5_CMASS_South.fits.gz')\n",
        "ra=hdul[1].data['RA']\n",
        "dec=hdul[1].data['DEC']\n",
        "z=hdul[1].data['Z']\n",
        "wtot=hdul[1].data['WEIGHT_SYSTOT']\n",
        "wcp=hdul[1].data['WEIGHT_CP']\n",
        "wnoz=hdul[1].data['WEIGHT_NOZ']\n",
        "wfkp=hdul[1].data['WEIGHT_FKP']\n",
        "wgal=wtot*wfkp*(wcp+wnoz-1.0) #Eq 2 from https://arxiv.org/pdf/1607.03154.pdf\n"
      ],
      "execution_count": 6,
      "outputs": []
    },
    {
      "cell_type": "markdown",
      "metadata": {
        "id": "QkPIo0xwOdb_"
      },
      "source": [
        "### Plot the redshift distribution"
      ]
    },
    {
      "cell_type": "code",
      "metadata": {
        "id": "htUYriVOA2lW"
      },
      "source": [
        "ind=np.where((z>0.4) & (z<0.7)) #cut the redshift range\n",
        "plt.hist(z[ind],100)\n",
        "plt.xlabel('z',fontsize=20)\n",
        "plt.ylabel('dN',fontsize=20)\n",
        "print(\"mean redshift of the galaxies :\",np.mean(z))"
      ],
      "execution_count": null,
      "outputs": []
    },
    {
      "cell_type": "code",
      "metadata": {
        "id": "xsSejSqHT_QC"
      },
      "source": [
        "plt.figure(figsize=(10,10))\n",
        "plt.plot(np.mod(ra+50,360),dec,',')\n",
        "plt.xlabel('RA',fontsize=20)\n",
        "plt.ylabel('dec',fontsize=20)"
      ],
      "execution_count": null,
      "outputs": []
    },
    {
      "cell_type": "markdown",
      "metadata": {
        "id": "twmNaEsVOizg"
      },
      "source": [
        "## Use astropy to convert from angle and redshift to cartesean comoving x,y,z positions"
      ]
    },
    {
      "cell_type": "code",
      "metadata": {
        "id": "LHZDEc0XEbBG"
      },
      "source": [
        "from astropy.cosmology import FlatLambdaCDM\n",
        "from astropy import units as u\n",
        "from astropy.coordinates import SkyCoord\n",
        "\n",
        "ind=np.where((z>0.4) & (z<0.7))\n",
        "cosmo=FlatLambdaCDM(Om0=0.30,H0=100) # sets the cosmological model working in units Mpc/h with Ho=100\n",
        "dist=cosmo.comoving_distance(z[ind]).value  # convert redshift to distance\n",
        "\n",
        "c = SkyCoord(ra=ra[ind]*u.degree, dec=dec[ind]*u.degree, distance=dist*u.Mpc) # convert to x,y,z\n",
        "data=np.transpose((c.cartesian.x,c.cartesian.y,c.cartesian.z, wgal[ind]))\n",
        "np.savetxt(\"gal.txt\",data) # save file as 4 columns x,y,z,w "
      ],
      "execution_count": 9,
      "outputs": []
    },
    {
      "cell_type": "markdown",
      "metadata": {
        "id": "RumsSnRvEGdF"
      },
      "source": [
        "### Load the Random Catalogue and repeat the same proceedure "
      ]
    },
    {
      "cell_type": "code",
      "metadata": {
        "id": "BgVo---2A4f1"
      },
      "source": [
        "hdul = fits.open('random0_DR12v5_CMASS_South.fits.gz')\n",
        "ra=hdul[1].data['RA']\n",
        "dec=hdul[1].data['DEC']\n",
        "z=hdul[1].data['Z']\n",
        "wrand=hdul[1].data['WEIGHT_FKP']"
      ],
      "execution_count": 11,
      "outputs": []
    },
    {
      "cell_type": "code",
      "metadata": {
        "id": "1UoD5xYBA53H"
      },
      "source": [
        "ind=np.where((z>0.4) & (z<0.7))\n",
        "plt.hist(z[ind],100)\n",
        "plt.xlabel('z',fontsize=20)\n",
        "plt.ylabel('dN',fontsize=20)\n",
        "print(\"mean redshift of the randoms :\",np.mean(z))"
      ],
      "execution_count": null,
      "outputs": []
    },
    {
      "cell_type": "markdown",
      "metadata": {
        "id": "yWobaUWYPfl7"
      },
      "source": [
        "Plotting the random point angular positions we see that they look almostly exactly like the galaxies as they should"
      ]
    },
    {
      "cell_type": "code",
      "metadata": {
        "id": "Rf7cXjFpVQwJ"
      },
      "source": [
        "plt.figure(figsize=(10,10))\n",
        "plt.plot(np.mod(ra[::50]+50,360),dec[::50],',') # plot a random sample 1/50\n",
        "plt.xlabel('RA',fontsize=20)\n",
        "plt.ylabel('dec',fontsize=20)"
      ],
      "execution_count": null,
      "outputs": []
    },
    {
      "cell_type": "code",
      "metadata": {
        "id": "ksZBjXGID8m9"
      },
      "source": [
        "dist=cosmo.comoving_distance(z[ind]).value\n",
        "\n",
        "c = SkyCoord(ra=ra[ind]*u.degree, dec=dec[ind]*u.degree, distance=dist*u.Mpc)\n",
        "data=np.transpose((c.cartesian.x,c.cartesian.y,c.cartesian.z, wrand[ind]))\n",
        "np.savetxt(\"ran.txt\",data[::50,:]) # save a subsample of the data (1/50)"
      ],
      "execution_count": 14,
      "outputs": []
    },
    {
      "cell_type": "markdown",
      "metadata": {
        "id": "4g2BCB29O7y8"
      },
      "source": [
        "## Run my KSTAT code (~1 min)\n",
        "20 measurement bins logarithmically spaced between 1 and 60 Mpc"
      ]
    },
    {
      "cell_type": "code",
      "metadata": {
        "id": "YURJth3qHHBg"
      },
      "source": [
        "!kstat/bin/2pcf -gal gal.txt -ran ran.txt -rmin 1.0 -rmax 60.0 -nbins 20 -log .true. -wgt .true."
      ],
      "execution_count": null,
      "outputs": []
    },
    {
      "cell_type": "markdown",
      "metadata": {
        "id": "bSdiIO5jaY77"
      },
      "source": [
        "Load and plot the result file"
      ]
    },
    {
      "cell_type": "code",
      "metadata": {
        "colab": {
          "base_uri": "https://localhost:8080/"
        },
        "id": "fAjfxCErQVtW",
        "outputId": "637faab3-c680-49ac-8a6d-429d689b17cc"
      },
      "source": [
        "!head -1 result.txt # the columns of the result file "
      ],
      "execution_count": 16,
      "outputs": [
        {
          "output_type": "stream",
          "name": "stdout",
          "text": [
            "R_min, R_max, DD, DR, RR, XI_natural, XI_Davis, XI_LS (most accurate)\n"
          ]
        }
      ]
    },
    {
      "cell_type": "code",
      "metadata": {
        "id": "YN1TCr-pHXV6"
      },
      "source": [
        "x=np.loadtxt('result.txt',skiprows=1)\n",
        "\n",
        "xi_natural=x[:,5]\n",
        "xi_davis=x[:,6]\n",
        "xi_LS=x[:,7]\n",
        "s=np.mean(x[:,0:2],axis=1)\n",
        "\n",
        "plt.figure(figsize=(10,8))\n",
        "plt.loglog(s,xi_natural,'rs',markerfacecolor='none', ms=10,label=r'$\\xi_{natural}$')\n",
        "plt.loglog(s,xi_davis,'bo',markerfacecolor='none', ms=10,label=r'$\\xi_{davis}$')\n",
        "plt.loglog(s,xi_LS,'k.',label=r'$\\xi_{LS}$')\n",
        "\n",
        "plt.legend()\n",
        "plt.xlabel('r [Mpc]',fontsize=20)\n",
        "plt.ylabel(r'$\\xi$',fontsize=20)"
      ],
      "execution_count": null,
      "outputs": []
    },
    {
      "cell_type": "markdown",
      "metadata": {
        "id": "cYu32Ph4Pl7m"
      },
      "source": [
        "### Lets start to make the theory prediction with CAMB"
      ]
    },
    {
      "cell_type": "code",
      "metadata": {
        "id": "h_xIz9ziIcfv"
      },
      "source": [
        "import camb\n",
        "from camb import model, initialpower"
      ],
      "execution_count": 19,
      "outputs": []
    },
    {
      "cell_type": "markdown",
      "metadata": {
        "id": "YpjS_JFJPrqT"
      },
      "source": [
        "### This is how you set up an instance of CAMB for the matter power spectrum with a particular cosmology "
      ]
    },
    {
      "cell_type": "code",
      "metadata": {
        "id": "4FZTUk5yKyTZ"
      },
      "source": [
        "kmax=100          # maximum k range\n",
        "k_per_logint = 10  # number of points per log interval\n",
        "zs = [0.55]        # redshift (mean of the galaxy sample) \n",
        "\n",
        "pars = camb.CAMBparams()\n",
        "pars.set_cosmology(H0=68.0, ombh2=0.022, omch2=0.12) \n",
        "pars.InitPower.set_params(ns=0.965,As=2.0905e-09)\n",
        "pars.WantTransfer = True\n",
        "pars.set_matter_power(redshifts=zs, kmax=kmax, k_per_logint=k_per_logint, silent=True)\n",
        "results = camb.get_results(pars)\n",
        "\n",
        "\n",
        "PKint = results.get_matter_power_interpolator(nonlinear=True, \n",
        "    hubble_units=True, k_hunit=True)"
      ],
      "execution_count": 20,
      "outputs": []
    },
    {
      "cell_type": "markdown",
      "metadata": {
        "id": "Kly1_dJKQQqw"
      },
      "source": [
        "### Lets plot the power spectrum"
      ]
    },
    {
      "cell_type": "code",
      "metadata": {
        "id": "VOuWhHlAK5nh"
      },
      "source": [
        "kh_nonlin=np.exp(np.arange(-5.0,3.8,0.0001)) # set k steps\n",
        "pk_nonlin=PKint.P(0.55, kh_nonlin)           # get P at those k and reshift z of sample\n",
        "plt.loglog(kh_nonlin,pk_nonlin,'-')\n",
        "\n",
        "plt.xlabel('k [1/Mpc]',fontsize=20)\n",
        "plt.ylabel(r'$P(k)$',fontsize=20)"
      ],
      "execution_count": null,
      "outputs": []
    },
    {
      "cell_type": "markdown",
      "metadata": {
        "id": "NtqiEDh4Mc3W"
      },
      "source": [
        "Need to numerically integrate $$ \\xi(r)=\\frac{1}{2\\pi^2}\\int k^2P(k) j_0 dk$$"
      ]
    },
    {
      "cell_type": "markdown",
      "metadata": {
        "id": "rIyqb4wbTrjP"
      },
      "source": [
        "use trapz function to numerically integrate over the integrand which is just product of 1-D arrays - for smooth integrands with enough samples trapz is usually accurate enough"
      ]
    },
    {
      "cell_type": "code",
      "metadata": {
        "id": "BVYAniEmK99L"
      },
      "source": [
        "bias=2.2 #galaxy bias parameter\n",
        "\n",
        "xi=[]\n",
        "rr=np.arange(1,60,2)  # set range in r scale Mpc/h\n",
        "for r in rr:\n",
        "    xi.append(bias**2*np.trapz(kh_nonlin**2*pk_nonlin*np.sin(kh_nonlin*r)/(kh_nonlin*r),kh_nonlin)/(2*np.pi**2) )"
      ],
      "execution_count": 22,
      "outputs": []
    },
    {
      "cell_type": "code",
      "metadata": {
        "id": "YWC3A1ALLKcR"
      },
      "source": [
        "plt.loglog(rr,xi)\n",
        "\n",
        "plt.xlabel('r [Mpc]')\n",
        "plt.ylabel(r'$\\xi$')"
      ],
      "execution_count": null,
      "outputs": []
    },
    {
      "cell_type": "markdown",
      "metadata": {
        "id": "62ygmFHJQju3"
      },
      "source": [
        "### Plot the theory and data together"
      ]
    },
    {
      "cell_type": "code",
      "metadata": {
        "id": "Y0O4DzzUMzVX"
      },
      "source": [
        "plt.loglog(rr,xi,'-',label='theory')\n",
        "plt.loglog(s,xi_LS,'.',label='SDSS data')\n",
        "\n",
        "plt.legend()\n",
        "plt.xlabel('r [Mpc]')\n",
        "plt.ylabel(r'$\\xi$')"
      ],
      "execution_count": null,
      "outputs": []
    },
    {
      "cell_type": "markdown",
      "metadata": {
        "id": "GENQvN_tzmaP"
      },
      "source": [
        "### Run KSTAT with the anisotropic options (~2 mins)"
      ]
    },
    {
      "cell_type": "code",
      "metadata": {
        "colab": {
          "base_uri": "https://localhost:8080/"
        },
        "id": "SQeGFkFUlJKF",
        "outputId": "c5361cc8-6dbb-40f3-c09d-c536c9a211eb"
      },
      "source": [
        "!kstat/bin/2pcf -gal gal.txt -ran ran.txt -rmin 1.0 -rmax 60.0 -nbins 20 -wgt .true. -iso ANISO -decp SIGPI > out.txt"
      ],
      "execution_count": 27,
      "outputs": [
        {
          "output_type": "stream",
          "name": "stdout",
          "text": [
            "STOP Ciao for now!\n"
          ]
        }
      ]
    },
    {
      "cell_type": "markdown",
      "metadata": {
        "id": "pReRijAXbe7v"
      },
      "source": [
        "## Load the result file and rearrange and plot\n",
        "We can clearly see the squashing effect in the radial direction\n"
      ]
    },
    {
      "cell_type": "code",
      "metadata": {
        "id": "okFb1JhEmCiT"
      },
      "source": [
        "x=np.loadtxt(\"result.txt\",skiprows=1)\n",
        "sig=np.mean(x[:,0:2],axis=1).reshape((20,20)) \n",
        "pi=np.mean(x[:,2:4],axis=1).reshape((20,20))\n",
        "xi=x[:,9].reshape((20,20)).transpose()\n",
        "\n",
        "plt.figure(figsize=(10,10))\n",
        "\n",
        "plt.contour(pi,sig,xi,levels=[0.04,0.1,0.2,0.7],colors=['r','g','b','k'])\n",
        "plt.xlim((2,55))\n",
        "plt.ylim((2,55))\n",
        "\n",
        "#########################################################################\n",
        "#### plotting circular contours to show the squashing effect in the data\n",
        "circ1=plt.Circle((0,0),12,color='k', fill=False,linestyle='--')\n",
        "circ2=plt.Circle((0,0),26,color='b', fill=False,linestyle='--')\n",
        "circ3=plt.Circle((0,0),35,color='g', fill=False,linestyle='--')\n",
        "circ4=plt.Circle((0,0),50,color='r', fill=False,linestyle='--')\n",
        "ax = plt.gca()\n",
        "ax.add_patch(circ1)\n",
        "ax.add_patch(circ2)\n",
        "ax.add_patch(circ3)\n",
        "ax.add_patch(circ4)\n",
        "#########################################################################\n",
        "plt.xlabel(r'$\\sigma$ [Mpc/h]')\n",
        "plt.ylabel(r'$\\pi$ [Mpc/h]')"
      ],
      "execution_count": null,
      "outputs": []
    },
    {
      "cell_type": "markdown",
      "metadata": {
        "id": "m35Ve1R9yIUz"
      },
      "source": [
        "### Anisotropic Analysis\n",
        "Use the kaiser formula \\\\\n",
        "$$ P^s_g(k,\\mu)= P^r_m(k)( b_g +f\\mu^2)^2$$"
      ]
    },
    {
      "cell_type": "code",
      "metadata": {
        "id": "P5ZXU4O7jx9y"
      },
      "source": [
        "ff=1.1   # growth\n",
        "bias=1.5 # galaxy bias\n",
        "\n",
        "pk_ani=np.zeros((60,60))\n",
        "\n",
        "for i in range(1,60):    #1->60 Mpc sigma-pi\n",
        "  for j in range(1,60):\n",
        "    rr=np.sqrt(i**2+j**2)\n",
        "    mu=j/rr\n",
        "    pk=pk_nonlin*(bias+ff*mu**2)**2\n",
        "    pk_ani[i,j]=np.trapz(kh_nonlin**2*pk*np.sin(kh_nonlin*rr)/(kh_nonlin*rr),kh_nonlin)/(2*np.pi**2)"
      ],
      "execution_count": 40,
      "outputs": []
    },
    {
      "cell_type": "markdown",
      "metadata": {
        "id": "YkRw7LEoz9rk"
      },
      "source": [
        "### Plot the theory and data together\n",
        "Its a pretty good match!"
      ]
    },
    {
      "cell_type": "code",
      "metadata": {
        "id": "m-L3x5aHnPQJ"
      },
      "source": [
        "plt.figure(figsize=(10,10))\n",
        "plt.contour(pi,sig,(xi),levels=[0.04, 0.1,0.3,1], colors='k')\n",
        "plt.contour(range(1,61),range(1,61),(pk_ani),levels=[0.04, 0.1,0.3,1], colors='r')\n",
        "plt.xlim((2,55))\n",
        "plt.ylim((2,55))\n",
        "plt.xlabel(r'$\\sigma$ [Mpc/h]',fontsize=20)\n",
        "plt.ylabel(r'$\\pi$ [Mpc/h]',fontsize=20)"
      ],
      "execution_count": null,
      "outputs": []
    },
    {
      "cell_type": "markdown",
      "metadata": {
        "id": "87foZz0HcwU1"
      },
      "source": [
        "Adding the Alcock Paczynski Effect \\\\\n",
        "$$\\xi(\\sigma,\\pi) = \\xi(\\alpha_{\\perp}\\sigma_{fid},\\alpha_{\\parallel}\\pi_{fid})$$ \\\\\n",
        "$$\\alpha_{\\perp}=\\frac{D_A(z)r_{d,\\rm fid}}{D^{\\rm fid}_A(z)r_{d}}, ~ \\alpha_{\\parallel}=\\frac{H^{\\rm fid}(z)r_{d,\\rm fid}}{H(z)r_{d}}$$"
      ]
    },
    {
      "cell_type": "code",
      "metadata": {
        "id": "KS9QU1G-Ckjh"
      },
      "source": [
        "ff=0.7       # growth\n",
        "bias=1.8     # galaxy bias\n",
        "alphapi=1.05\n",
        "alphasigma=1.00\n",
        "\n",
        "pk_ani2=np.zeros((60,60))\n",
        "\n",
        "for i in range(1,60):    #1->60 Mpc sigma-pi\n",
        "  for j in range(1,60):\n",
        "    rr=np.sqrt((i*alphasigma)**2+(j*alphapi)**2)\n",
        "    mu=(j*alphapi)/rr\n",
        "    pk=pk_nonlin*(bias+ff*mu**2)**2\n",
        "    pk_ani2[i,j]=np.trapz(kh_nonlin**2*pk*np.sin(kh_nonlin*rr)/(kh_nonlin*rr),kh_nonlin)/(2*np.pi**2)"
      ],
      "execution_count": 41,
      "outputs": []
    },
    {
      "cell_type": "code",
      "metadata": {
        "id": "Zym7TNkHcbqk"
      },
      "source": [
        "plt.figure(figsize=(10,10))\n",
        "#plt.contour(pi,sig,(xi),levels=[0.04, 0.1,0.3,1], colors='k')\n",
        "plt.contour(range(1,61),range(1,61),(pk_ani),levels=[0.04, 0.1,0.3,1], colors='r')\n",
        "plt.contour(range(1,61),range(1,61),(pk_ani2),levels=[0.04, 0.1,0.3,1], colors='b')\n",
        "plt.plot([-1,-1],[-1,-1],'r-',label='fiducial model')\n",
        "plt.plot([-1,-1],[-1,-1],'b-',label=r'$\\alpha_{\\parallel}=1.05$')\n",
        "plt.xlim((2,55))\n",
        "plt.ylim((2,55))\n",
        "plt.legend()\n",
        "plt.xlabel(r'$\\sigma$ [Mpc/h]')\n",
        "plt.ylabel(r'$\\pi$ [Mpc/h]')"
      ],
      "execution_count": null,
      "outputs": []
    },
    {
      "cell_type": "markdown",
      "metadata": {
        "id": "7IVA0OKw0CbJ"
      },
      "source": [
        "## Large Scale and BAO\n",
        "But lets make JK samples to compute errorbars"
      ]
    },
    {
      "cell_type": "code",
      "metadata": {
        "id": "Y-laS62Sz5hQ"
      },
      "source": [
        "!kstat/bin/jk.sh gal.txt ran.txt 5 3"
      ],
      "execution_count": null,
      "outputs": []
    },
    {
      "cell_type": "markdown",
      "metadata": {
        "id": "GqnZnpWW2YtI"
      },
      "source": [
        "Run code (~8mins)"
      ]
    },
    {
      "cell_type": "code",
      "metadata": {
        "id": "uVnrSKQ4evb6"
      },
      "source": [
        "!kstat/bin/2pcf -gal gal.txt.jk -ran ran.txt.jk -rmin 50.0 -rmax 125.0 -nbins 15 -wgt .true. -err 'read' -nerr 125"
      ],
      "execution_count": null,
      "outputs": []
    },
    {
      "cell_type": "markdown",
      "metadata": {
        "id": "BiHQMQa-ioYY"
      },
      "source": [
        "The isotropic BAO position is parameterised by the scale dilation\n",
        "parameter $$\\alpha=\\frac{D_v(z)r_{d,\\rm fid}}{D^{\\rm fid}_v(z)r_{d}}$$"
      ]
    },
    {
      "cell_type": "code",
      "metadata": {
        "id": "tjeC3gXS1AAc"
      },
      "source": [
        "bias=2.4 #galaxy bias parameter\n",
        "\n",
        "xi=[]\n",
        "rr=np.arange(50,130,2)\n",
        "alpha=1.06\n",
        "for r in rr:\n",
        "    xi.append(bias**2*np.trapz(kh_nonlin**2*pk_nonlin*np.sin(kh_nonlin*alpha*r)/(kh_nonlin*alpha*r),kh_nonlin)/(2*np.pi**2) + 0.002)"
      ],
      "execution_count": 150,
      "outputs": []
    },
    {
      "cell_type": "code",
      "metadata": {
        "id": "5QhnJgK_oGEo"
      },
      "source": [
        "x=np.loadtxt('result.txt',skiprows=1)\n",
        "r=np.mean(x[:,0:2],axis=1)\n",
        "plt.errorbar(r,x[:,2]*r**2,yerr=x[:,3]*r**2,ls='none')\n",
        "plt.plot(r,x[:,2]*r**2,'ks')\n",
        "plt.plot(rr,xi*rr**2,'-')\n",
        "plt.xlabel('r [Mpc/h]')\n",
        "plt.ylabel(r'$\\xi$')\n"
      ],
      "execution_count": null,
      "outputs": []
    },
    {
      "cell_type": "markdown",
      "metadata": {
        "id": "QP63S4kseHW1"
      },
      "source": [
        "Fit the BAO shift parameter\n",
        "$$\\chi^2=\\sum\\frac{(\\xi_{obs}-\\xi_{theory})^2}{\\sigma^2_{\\xi}}$$"
      ]
    },
    {
      "cell_type": "code",
      "metadata": {
        "id": "MSG9oX_6zTg6"
      },
      "source": [
        "from scipy.optimize import minimize\n",
        "ckms=299792.458 #km/s\n",
        "\n",
        "x=np.loadtxt('result.txt',skiprows=1)\n",
        "dists=np.mean(x[3:,0:2],axis=1)\n",
        "xi=x[3:,2]\n",
        "xi_err=x[3:,3]\n",
        "\n",
        "def BAOchi2(params):\n",
        "  alpha=params[0]\n",
        "  bias=params[1]\n",
        "  xim=[]\n",
        "  for r in dists:\n",
        "    xim.append(bias**2*np.trapz(kh_nonlin**2*pk_nonlin*np.sin(kh_nonlin*alpha*r)/(kh_nonlin*alpha*r),kh_nonlin)/(2*np.pi**2) + 0.002)\n",
        "\n",
        "  chi2=np.sum((xi-xim)**2 / xi_err**2)\n",
        "  return chi2\n",
        "\n",
        "\n",
        "alpha_bestfit=1.0\n",
        "bias_bestfit=2.0\n",
        "\n",
        "bestfit=minimize(BAOchi2, [alpha_bestfit, bias_bestfit],method='Nelder-Mead')\n",
        "print('Best-fit parameters:', bestfit['x'], r'$\\chi^2$',bestfit['fun'])\n",
        "print(bestfit)\n",
        "\n",
        "#1.07*ckms/cosmo.H(0.55).value/rsf(1/1021.0,0.04,0.3,0,Omega_rB,68.0,-1.0,0.0)"
      ],
      "execution_count": null,
      "outputs": []
    },
    {
      "cell_type": "markdown",
      "metadata": {
        "id": "Xd4rmQBUv3M0"
      },
      "source": [
        "A spherically averaged distance is $$D_v(z)=[cz(1+z)^2D_A(z)^2H(z)^{-1}]^{1/3}$$"
      ]
    },
    {
      "cell_type": "markdown",
      "metadata": {
        "id": "4rShYgbWxsRq"
      },
      "source": [
        "$r_d$ is the radius of the sound horizon at the redshift $z_d$​ when baryons got freed from the photon drag. The sound horizon is given by $$r_s(z)=\\int^a_0\\frac{c_s da'}{a'H(z)}$$ and $$c_s=\\frac{c}{3\\left(1+\\frac{3\\Omega_b a}{4\\Omega_r}\\right)}$$"
      ]
    },
    {
      "cell_type": "code",
      "metadata": {
        "id": "NnoCfNOEzTwT"
      },
      "source": [
        "\n"
      ],
      "execution_count": 116,
      "outputs": []
    },
    {
      "cell_type": "code",
      "metadata": {
        "id": "QeJyr5g-80Fi"
      },
      "source": [
        "\n"
      ],
      "execution_count": null,
      "outputs": []
    },
    {
      "cell_type": "code",
      "metadata": {
        "id": "4GJIk8MDBdZR"
      },
      "source": [
        "from astropy.cosmology import FlatwCDM\n",
        "ckms=299792.458 #km/s\n",
        "\n",
        "h=0.67\n",
        "Om=0.30\n",
        "Ob=0.05\n",
        "w0=-1.02\n",
        "\n",
        "cosmo = FlatwCDM(H0=h*100.0, Om0=Om, w0=w0)\n",
        "\n",
        "############################################\n",
        "#### load data\n",
        "# copied data from https://www.sdss.org/science/final-bao-and-rsd-measurements/\n",
        "DV_data=np.asarray([4.47,18.33])\n",
        "DV_err=np.asarray([0.17,0.6])\n",
        "DV_z=np.asarray([0.15,0.85])\n",
        "\n",
        "DM_data=np.asarray([10.23,13.36,17.86,30.69,37.6,37.3])\n",
        "DM_err=np.asarray([0.17, 0.21, 0.21, 0.80, 1.9, 1.7])\n",
        "DM_z=np.asarray([0.38,0.51,0.70,1.48,2.33,2.33])\n",
        "\n",
        "DH_data=np.asarray([25.00, 22.33, 19.33, 13.26, 8.93, 9.08])\n",
        "DH_err=np.asarray([ 0.76, 0.58,  0.53, 0.55, 0.28,0.34])\n",
        "DH_z=np.asarray([0.38,0.51,0.70,1.48,2.33,2.33])\n",
        "############################################\n",
        "\n",
        "## sound horizon approx from Eq 12 of arxiv:0907.1660    \n",
        "rs=153.5*((Ob*h*h/0.02273)**-0.134)*((Om*h*h/0.1326)**-0.255)\n",
        "\n",
        "H0=ckms/cosmo.H(DH_z).value\n",
        "DM=cosmo.comoving_distance(DM_z).value\n",
        "\n"
      ],
      "execution_count": 39,
      "outputs": []
    },
    {
      "cell_type": "markdown",
      "metadata": {
        "id": "7ypV4QsZKtIq"
      },
      "source": [
        "Plot the Comoving distance"
      ]
    },
    {
      "cell_type": "code",
      "metadata": {
        "id": "Uynir9_JFixB"
      },
      "source": [
        "fig,ax = plt.subplots(2,1,sharex=True,gridspec_kw={'height_ratios': [3, 1]})\n",
        "\n",
        "ax[0].errorbar(DM_z,DM_data,yerr=DM_err,ls='none',marker='.',label='SDSS data')\n",
        "ax[0].plot(DM_z,DM/rs,'k-',label='Planck best fit')\n",
        "ax[1].plot(DM_z,DM_z*0,'k--')\n",
        "ax[1].errorbar(DM_z,DM_data-DM/rs,yerr=DM_err,ls='none',marker='.')\n",
        "ax[1].set_xlabel('redshift, z')\n",
        "ax[1].set_ylabel(r'$\\Delta D_c$')\n",
        "ax[0].set_ylabel(r'$D_c$ / $r_{fid}$')\n",
        "ax[0].legend()\n",
        "plt.subplots_adjust(wspace=0, hspace=0)"
      ],
      "execution_count": null,
      "outputs": []
    },
    {
      "cell_type": "markdown",
      "metadata": {
        "id": "Rlb0TvAtLEv5"
      },
      "source": [
        "Plot the Hubble distance"
      ]
    },
    {
      "cell_type": "code",
      "metadata": {
        "id": "mv-Zva_8Fjba"
      },
      "source": [
        "fig,ax = plt.subplots(2,1,sharex=True,gridspec_kw={'height_ratios': [3, 1]},figsize=(10,10))\n",
        "ax[0].errorbar(DH_z,DH_data,yerr=DH_err,ls='none',marker='.',label='SDSS data')\n",
        "ax[0].plot(DH_z,H0/rs,'k-',label='Planck best fit')\n",
        "ax[1].plot(DH_z,DH_z*0,'k--')\n",
        "ax[0].legend()\n",
        "ax[1].errorbar(DH_z,DH_data-H0/rs,yerr=DH_err,ls='none',marker='.')\n",
        "ax[1].set_xlabel('redshift, z')\n",
        "ax[1].set_ylabel(r'$\\Delta D_H$')\n",
        "ax[0].set_ylabel(r'$D_H$ / $r_{fid}$')\n",
        "plt.subplots_adjust(wspace=0, hspace=0)"
      ],
      "execution_count": null,
      "outputs": []
    },
    {
      "cell_type": "code",
      "metadata": {
        "id": "F90ZFXu2CEix"
      },
      "source": [
        ""
      ],
      "execution_count": null,
      "outputs": []
    },
    {
      "cell_type": "code",
      "metadata": {
        "colab": {
          "base_uri": "https://localhost:8080/"
        },
        "id": "utfRAttOQ6hM",
        "outputId": "05d81eac-d119-4463-a719-e3a08d0d8397"
      },
      "source": [
        "from scipy import integrate \n",
        "ckms=299792.458 #km/s\n",
        "\n",
        "def w(a,w0,wa):\n",
        "    return w0+(1.0-a)*wa\n",
        "\n",
        "def eos_integrand(lna,w0,wa):\n",
        "    a=np.exp(lna)\n",
        "    wnow=w(a,w0,wa)\n",
        "    eos_integrand=(1+wnow)\n",
        "    return eos_integrand\n",
        "\n",
        "def OmegaDE(a,OmegaDE0,w0,wa):\n",
        "    #Integrating from today to an earlier time in lna\n",
        "    factor=integrate.romberg(eos_integrand,0,np.log(a),args=(w0,wa),rtol=1e-3)\n",
        "    OmegaDE=OmegaDE0*np.exp(-3.0*factor)\n",
        "    return OmegaDE\n",
        "\n",
        "def rs_integrand(a,Om_b,Om_m,Om_k,Om_r,H0,w0,wa):\n",
        "    Om_de0=1-Om_m-Om_k-Om_r\n",
        "    Om_de=OmegaDE(a,Om_de0,w0,wa)\n",
        "    # massless species # assume 3 \n",
        "    Omr_massless=3.0*Om_r*(7.0/8.0)*(4.0/11.0)**(4.0/3.0)\n",
        "    asquareH=H0*np.sqrt((Om_m*a)+Om_r+Omr_massless+(Om_k*a**2)+(Om_de*a**4))\n",
        "    Rb=(3.0*Om_b*a)/(4.0*Om_r)\n",
        "    rs_integrand=ckms/(np.sqrt(3.0*(1.0+Rb))*asquareH)    \n",
        "    return rs_integrand\n",
        "\n",
        "def rsf(a,Om_b,Om_m,Om_k,Om_r,H0,w0,wa):\n",
        "    #In Mpc\n",
        "    rs=integrate.romberg(rs_integrand,1e-9,a,args=(Om_b,Om_m,Om_k,Om_r,H0,w0,wa),rtol=1e-3)    \n",
        "    return rs  \n",
        "\n",
        "#### best fit planck values ####\n",
        "Omega_mB=0.3153\n",
        "Omega_rBh2=2.47e-5\n",
        "Omega_kB=0\n",
        "H0B=67.36\n",
        "Omega_rB=Omega_rBh2/(H0B/100.0)**2\n",
        "Omega_lB=1-Omega_mB-Omega_rB-Omega_kB\n",
        "Omega_bBh2=0.0224\n",
        "Omega_bB=Omega_bBh2/(H0B/100.0)**2\n",
        "\n",
        "#rs=\n",
        "rsf(1/1021.78,Omega_bB,Omega_mB,0.0000000,Omega_rB,H0B,-1.0,0.0)\n"
      ],
      "execution_count": 5,
      "outputs": [
        {
          "output_type": "execute_result",
          "data": {
            "text/plain": [
              "150.7973009430952"
            ]
          },
          "metadata": {},
          "execution_count": 5
        }
      ]
    }
  ]
}