{
  "nbformat": 4,
  "nbformat_minor": 0,
  "metadata": {
    "colab": {
      "name": "Star-Galaxy-Seperation.ipynb",
      "provenance": [],
      "collapsed_sections": [],
      "include_colab_link": true
    },
    "kernelspec": {
      "name": "python2",
      "display_name": "Python 2"
    }
  },
  "cells": [
    {
      "cell_type": "markdown",
      "metadata": {
        "id": "view-in-github",
        "colab_type": "text"
      },
      "source": [
        "<a href=\"https://colab.research.google.com/github/csabiu/ML_tutorial/blob/master/Star_Galaxy_Seperation.ipynb\" target=\"_parent\"><img src=\"https://colab.research.google.com/assets/colab-badge.svg\" alt=\"Open In Colab\"/></a>"
      ]
    },
    {
      "cell_type": "markdown",
      "metadata": {
        "id": "0wjF-C5Xv3m1"
      },
      "source": [
        "Supervised Classification problems\n",
        "\n",
        "In this notebook we will use decision tree, random forests and SVM to learn a mapping between galaxy magnitudes and object classification (STARS, GALAXIES)\n",
        "\n"
      ]
    },
    {
      "cell_type": "markdown",
      "metadata": {
        "id": "E-MsBQHtvoAT"
      },
      "source": [
        "# Load some libraries"
      ]
    },
    {
      "cell_type": "code",
      "metadata": {
        "id": "srdVtr1P8qYS",
        "colab": {
          "base_uri": "https://localhost:8080/"
        },
        "outputId": "d2a8a298-965f-410c-dd8c-246bbf1935b5"
      },
      "source": [
        "%matplotlib inline\n",
        "import numpy as np\n",
        "import matplotlib.pyplot as plt\n",
        "from astropy.table import Table\n",
        "from sklearn.model_selection import train_test_split\n",
        "!pip install gdown"
      ],
      "execution_count": 1,
      "outputs": [
        {
          "output_type": "stream",
          "name": "stdout",
          "text": [
            "Requirement already satisfied: gdown in /usr/local/lib/python3.7/dist-packages (3.6.4)\n",
            "Requirement already satisfied: six in /usr/local/lib/python3.7/dist-packages (from gdown) (1.15.0)\n",
            "Requirement already satisfied: tqdm in /usr/local/lib/python3.7/dist-packages (from gdown) (4.62.3)\n",
            "Requirement already satisfied: requests in /usr/local/lib/python3.7/dist-packages (from gdown) (2.23.0)\n",
            "Requirement already satisfied: chardet<4,>=3.0.2 in /usr/local/lib/python3.7/dist-packages (from requests->gdown) (3.0.4)\n",
            "Requirement already satisfied: certifi>=2017.4.17 in /usr/local/lib/python3.7/dist-packages (from requests->gdown) (2021.10.8)\n",
            "Requirement already satisfied: idna<3,>=2.5 in /usr/local/lib/python3.7/dist-packages (from requests->gdown) (2.10)\n",
            "Requirement already satisfied: urllib3!=1.25.0,!=1.25.1,<1.26,>=1.21.1 in /usr/local/lib/python3.7/dist-packages (from requests->gdown) (1.24.3)\n"
          ]
        }
      ]
    },
    {
      "cell_type": "markdown",
      "metadata": {
        "id": "4QhIBa43vuFu"
      },
      "source": [
        "# Download the dataset"
      ]
    },
    {
      "cell_type": "code",
      "metadata": {
        "id": "2LNFZAh78sBp",
        "colab": {
          "base_uri": "https://localhost:8080/"
        },
        "outputId": "118a109e-1c38-4d84-a142-48896f33b390"
      },
      "source": [
        "import gdown\n",
        "!gdown https://drive.google.com/uc?id=1Wdy5-wnVFaRK-Xx3j4osQsMDoA6O9VeB"
      ],
      "execution_count": 2,
      "outputs": [
        {
          "output_type": "stream",
          "name": "stdout",
          "text": [
            "Downloading...\n",
            "From: https://drive.google.com/uc?id=1Wdy5-wnVFaRK-Xx3j4osQsMDoA6O9VeB\n",
            "To: /content/SpecPhotodr14_hoyleb.csv.sampled.fits.bz2\n",
            "100% 244M/244M [00:02<00:00, 89.5MB/s]\n"
          ]
        }
      ]
    },
    {
      "cell_type": "markdown",
      "metadata": {
        "id": "NguL_fy5vz3f"
      },
      "source": [
        "# Clean the data"
      ]
    },
    {
      "cell_type": "code",
      "metadata": {
        "id": "y8nzv2AU82wk",
        "colab": {
          "base_uri": "https://localhost:8080/"
        },
        "outputId": "9937b04b-6eb3-4984-d949-74667958cf13"
      },
      "source": [
        "d = Table.read('SpecPhotodr14_hoyleb.csv.sampled.fits.bz2')\n",
        "print('Number of objects:',np.shape(d)[0])\n",
        "# will perform a bit of data cleaning.\n",
        "d = d[d['SPEC_Z'] < 1.0]\n",
        "print('Number of objects:',np.shape(d)[0])"
      ],
      "execution_count": 3,
      "outputs": [
        {
          "output_type": "stream",
          "name": "stdout",
          "text": [
            "Number of objects: 485120\n",
            "Number of objects: 404609\n"
          ]
        }
      ]
    },
    {
      "cell_type": "code",
      "metadata": {
        "id": "MqpfzYkpAYY9",
        "colab": {
          "base_uri": "https://localhost:8080/"
        },
        "outputId": "235c838c-bbc7-4163-c10b-11d74de952ba"
      },
      "source": [
        "#you can look at the all the features available to you\n",
        "# http://skyserver.sdss.org/dr14/en/help/browser/browser.aspx#&&history=description+PhotoObj+V\n",
        "print (d.keys())\n",
        "\n",
        "print('Number of objects:',np.shape(d)[0])"
      ],
      "execution_count": 4,
      "outputs": [
        {
          "output_type": "stream",
          "name": "stdout",
          "text": [
            "['OBJID', 'RA', 'DEC', 'PHOTPTYPE', 'PHOT_SG', 'FLAGS', 'SATURATED', 'BAD_COUNTS_ERROR', 'BINNED1', 'u', 'g', 'r', 'i', 'z', 'u_err', 'g_err', 'r_err', 'i_err', 'z_err', 'MODELMAGERR_U', 'MODELMAGERR_G', 'MODELMAGERR_R', 'MODELMAGERR_I', 'MODELMAGERR_Z', 'EXTINCTION_U', 'EXTINCTION_G', 'EXTINCTION_R', 'EXTINCTION_I', 'EXTINCTION_Z', 'DERED_U', 'DERED_G', 'DERED_R', 'DERED_I', 'DERED_Z', 'PETRORAD_U', 'PETRORAD_G', 'PETRORAD_R', 'PETRORAD_I', 'PETRORAD_Z', 'PETRORADERR_U', 'PETRORADERR_G', 'PETRORADERR_R', 'PETRORADERR_I', 'PETRORADERR_Z', 'DEVRAD_U', 'DEVRADERR_U', 'DEVRAD_G', 'DEVRADERR_G', 'DEVRAD_R', 'DEVRADERR_R', 'DEVRAD_I', 'DEVRADERR_I', 'DEVRAD_Z', 'DEVRADERR_Z', 'DEVAB_U', 'DEVAB_G', 'DEVAB_R', 'DEVAB_I', 'DEVAB_Z', 'CMODELMAG_U', 'CMODELMAGERR_U', 'CMODELMAG_G', 'CMODELMAGERR_G', 'CMODELMAG_R', 'CMODELMAGERR_R', 'CMODELMAG_I', 'CMODELMAGERR_I', 'CMODELMAG_Z', 'CMODELMAGERR_Z', 'PSFMAG_U', 'PSFMAGERR_U', 'PSFMAG_G', 'PSFMAGERR_G', 'PSFMAG_R', 'PSFMAGERR_R', 'PSFMAG_I', 'PSFMAGERR_I', 'PSFMAG_Z', 'PSFMAGERR_Z', 'FIBERMAG_U', 'FIBERMAGERR_U', 'FIBERMAG_G', 'FIBERMAGERR_G', 'FIBERMAG_R', 'FIBERMAGERR_R', 'FIBERMAG_I', 'FIBERMAGERR_I', 'FIBERMAG_Z', 'FIBERMAGERR_Z', 'FRACDEV_U', 'FRACDEV_G', 'FRACDEV_R', 'FRACDEV_I', 'FRACDEV_Z', 'Q_U', 'U_U', 'Q_G', 'U_G', 'Q_R', 'U_R', 'Q_I', 'U_I', 'Q_Z', 'U_Z', 'EXPAB_U', 'EXPRAD_U', 'EXPPHI_U', 'EXPAB_G', 'EXPRAD_G', 'EXPPHI_G', 'EXPAB_R', 'EXPRAD_R', 'EXPPHI_R', 'EXPAB_I', 'EXPRAD_I', 'EXPPHI_I', 'EXPAB_Z', 'EXPRAD_Z', 'EXPPHI_Z', 'FIBER2MAG_R', 'FIBER2MAGERR_R', 'EXPMAG_R', 'EXPMAGERR_R', 'PETROR50_R', 'PETROR90_R', 'PETROMAG_R', 'SB_EXP_R', 'SB_PETRO_R', 'SPEC_Z', 'SPEC_Z_ERR', 'SPEC_Z_WARN', 'PHOTOZ', 'PHOTOZ_ERR', 'SPECOBJID', 'MJD', 'SPEC_CLASS', 'SPEC_SUBCLASS']\n",
            "Number of objects: 404609\n"
          ]
        }
      ]
    },
    {
      "cell_type": "code",
      "metadata": {
        "id": "KPsQqtdoAstE",
        "colab": {
          "base_uri": "https://localhost:8080/"
        },
        "outputId": "c0d7a935-42bc-4bf1-ecf9-036783d00a25"
      },
      "source": [
        "# we will use just dereddend magnitudes \n",
        "mags = ['DERED_U', 'DERED_G', 'DERED_R','DERED_I','DERED_Z']\n",
        "d=d[d[mags[0]]!='null']\n",
        "d=d[d[mags[1]]!='null']\n",
        "d=d[d[mags[2]]!='null']\n",
        "d=d[d[mags[3]]!='null']\n",
        "d=d[d[mags[4]]!='null']\n",
        "\n",
        "d=d[d['SPEC_CLASS']!='QSO'] #remove Quasars\n",
        "\n",
        "def f(x):\n",
        "    return np.float(x)\n",
        "f2 = np.vectorize(f)\n",
        "\n",
        "#and color combinations created from them.\n",
        "cols= []\n",
        "for i in range(len(mags)-1):\n",
        "    for j in range(i+1, len(mags)):\n",
        "        cols.append(mags[i]+'-' + mags[j])\n",
        "\n",
        "# let's load these into an input array\n",
        "inputs = np.zeros((len(d), len(mags+cols)), dtype=float)\n",
        "for i, key in enumerate(mags):\n",
        "    inputs[:, i] = np.array(d[key])\n",
        "\n",
        "cnt = len(mags)\n",
        "for i in range(len(mags)-1):\n",
        "    for j in range(i+1, len(mags)):\n",
        "        inputs[:, cnt] = np.array(f2(d[mags[i]])) - np.array(f2(d[mags[j]]))\n",
        "        cnt += 1\n",
        "\n",
        "print(np.shape(inputs))"
      ],
      "execution_count": 5,
      "outputs": [
        {
          "output_type": "stream",
          "name": "stdout",
          "text": [
            "(362998, 15)\n"
          ]
        }
      ]
    },
    {
      "cell_type": "markdown",
      "metadata": {
        "id": "oiMEo0uhwJ0h"
      },
      "source": [
        "# for photo-z work\n",
        "# The target/label values are spectroscopic classifications"
      ]
    },
    {
      "cell_type": "code",
      "metadata": {
        "id": "Y0pWLAQaeLVR"
      },
      "source": [
        "d['SPEC_CLASS'][d['SPEC_CLASS']=='STAR']=0\n",
        "d['SPEC_CLASS'][d['SPEC_CLASS']=='GALAXY']=1\n",
        "\n",
        "targets=np.float_(np.array(d['SPEC_CLASS']))"
      ],
      "execution_count": 6,
      "outputs": []
    },
    {
      "cell_type": "markdown",
      "metadata": {
        "id": "X0lrilnUwEbY"
      },
      "source": [
        "# we will split the data into a trainind and testing sample.\n"
      ]
    },
    {
      "cell_type": "code",
      "metadata": {
        "id": "9oDjSGp8eQ3v",
        "colab": {
          "base_uri": "https://localhost:8080/"
        },
        "outputId": "9c357a4d-3656-4cd0-844c-3fb3b5e1f542"
      },
      "source": [
        "x_train, x_test, y_train, y_test = train_test_split(inputs, targets, test_size=0.2, random_state=42)\n",
        "\n",
        "print(\"Training inputs: \",x_train.shape)\n",
        "print(\"Training outputs: \",y_train.shape)\n",
        "print(\"Testing inputs: \",x_test.shape)\n",
        "print(\"Testing outputs: \",y_test.shape)"
      ],
      "execution_count": 7,
      "outputs": [
        {
          "output_type": "stream",
          "name": "stdout",
          "text": [
            "Training inputs:  (290398, 15)\n",
            "Training outputs:  (290398,)\n",
            "Testing inputs:  (72600, 15)\n",
            "Testing outputs:  (72600,)\n"
          ]
        }
      ]
    },
    {
      "cell_type": "code",
      "metadata": {
        "id": "mtmevGYoeVHw"
      },
      "source": [
        "from sklearn.tree import DecisionTreeClassifier as DT\n",
        "from sklearn.metrics import mean_squared_error\n",
        "from sklearn.metrics import confusion_matrix\n",
        "from sklearn.metrics import classification_report\n",
        "    \n",
        "#see https://scikit-learn.org/stable/modules/tree.html\n",
        "\n",
        "#help(DT)"
      ],
      "execution_count": 9,
      "outputs": []
    },
    {
      "cell_type": "markdown",
      "metadata": {
        "id": "zgr1dWAgwLXP"
      },
      "source": [
        "#let's train [.fit()]  a tree on the training sample, and then make predictions on the test sample"
      ]
    },
    {
      "cell_type": "code",
      "metadata": {
        "id": "Vp0y_7ODeYdq",
        "colab": {
          "base_uri": "https://localhost:8080/",
          "height": 316
        },
        "outputId": "bae6309f-c4ee-4804-ed03-c140c83a1d14"
      },
      "source": [
        "clf = DT(random_state=0, max_depth=10)\n",
        "clf = clf.fit(x_train, y_train)\n",
        "\n",
        "pred_train  = clf.predict(x_train)\n",
        "pred_test = clf.predict(x_test)\n",
        "\n",
        "mse_test = mean_squared_error(y_test, pred_test)\n",
        "mse_train = mean_squared_error(y_train, pred_train)\n",
        "plt.plot(pred_test,y_test, '.')#, label='test MSE={:0.2f}'.format(mse_test))\n",
        "plt.legend()\n",
        "\n",
        "plt.xlabel('ML [1xDT] pred-class')\n",
        "plt.ylabel('Spec-class')\n",
        "\n",
        "print(mse_test, mse_train)\n"
      ],
      "execution_count": 11,
      "outputs": [
        {
          "output_type": "stream",
          "name": "stderr",
          "text": [
            "No handles with labels found to put in legend.\n"
          ]
        },
        {
          "output_type": "stream",
          "name": "stdout",
          "text": [
            "0.05765840220385675 0.04964221516677112\n"
          ]
        },
        {
          "output_type": "display_data",
          "data": {
            "image/png": "[encoded data removed]",
            "text/plain": [
              "<Figure size 432x288 with 1 Axes>"
            ]
          },
          "metadata": {
            "needs_background": "light"
          }
        }
      ]
    },
    {
      "cell_type": "code",
      "metadata": {
        "id": "2FoknUp38iNc",
        "colab": {
          "base_uri": "https://localhost:8080/",
          "height": 521
        },
        "outputId": "f3fcaccc-5b3b-4597-fa16-e78b42a7d605"
      },
      "source": [
        "print(sum(pred_test<=0.5))\n",
        "print(sum(y_test==0))\n",
        "\n",
        "print(sum(pred_test>0.5))\n",
        "print(sum(y_test==1))\n",
        "\n",
        "\n",
        "plt.imshow(confusion_matrix(y_test, pred_test,normalize='true'))\n",
        "plt.colorbar()\n",
        "plt.xlabel('Truth')\n",
        "plt.ylabel('Predicted')\n",
        "\n",
        "\n",
        "print(classification_report(y_test, pred_test,target_names=['star','galaxy']))"
      ],
      "execution_count": 15,
      "outputs": [
        {
          "output_type": "stream",
          "name": "stdout",
          "text": [
            "19548\n",
            "20090\n",
            "53052\n",
            "52510\n",
            "              precision    recall  f1-score   support\n",
            "\n",
            "        star       0.91      0.88      0.89     20090\n",
            "      galaxy       0.96      0.97      0.96     52510\n",
            "\n",
            "    accuracy                           0.94     72600\n",
            "   macro avg       0.93      0.92      0.93     72600\n",
            "weighted avg       0.94      0.94      0.94     72600\n",
            "\n"
          ]
        },
        {
          "output_type": "display_data",
          "data": {
            "image/png": "[encoded data removed]",
            "text/plain": [
              "<Figure size 432x288 with 2 Axes>"
            ]
          },
          "metadata": {
            "needs_background": "light"
          }
        }
      ]
    },
    {
      "cell_type": "code",
      "metadata": {
        "id": "EAfhtRDtfF0F"
      },
      "source": [
        "\n"
      ],
      "execution_count": null,
      "outputs": []
    },
    {
      "cell_type": "markdown",
      "metadata": {
        "id": "xkUKwb4lxVG-"
      },
      "source": [
        "# Lets increase the number of trees -> forest"
      ]
    },
    {
      "cell_type": "code",
      "metadata": {
        "id": "TIOIWzGmf5hJ"
      },
      "source": [
        "#for regression [photo-z]\n",
        "from sklearn.ensemble import RandomForestClassifier as RFC\n",
        "from sklearn.ensemble import AdaBoostClassifier as ABC\n",
        "\n",
        "clf = RFC(max_depth=10,n_estimators=50)"
      ],
      "execution_count": 23,
      "outputs": []
    },
    {
      "cell_type": "code",
      "metadata": {
        "id": "dG6SjoWmu9GN",
        "colab": {
          "base_uri": "https://localhost:8080/"
        },
        "outputId": "d0005775-df6b-4b3d-dfe6-43e1253d3ada"
      },
      "source": [
        "clf = clf.fit(x_train, y_train)\n",
        "\n",
        "#replace None\n",
        "pred_train  = clf.predict(x_train)\n",
        "pred_test = clf.predict(x_test)\n",
        "\n",
        "mse_test = mean_squared_error(y_test, pred_test)\n",
        "mse_train = mean_squared_error(y_train, pred_train)\n",
        "\n",
        "print(mse_test, mse_train)"
      ],
      "execution_count": 20,
      "outputs": [
        {
          "output_type": "stream",
          "name": "stdout",
          "text": [
            "0.05504132231404959 0.049559569969490146\n"
          ]
        }
      ]
    },
    {
      "cell_type": "code",
      "metadata": {
        "id": "dPGyeTqpvJwu",
        "colab": {
          "base_uri": "https://localhost:8080/",
          "height": 448
        },
        "outputId": "3ac547d3-2285-45e5-9f07-12f8563a030c"
      },
      "source": [
        "plt.imshow(confusion_matrix(y_test, pred_test,normalize='true'))\n",
        "plt.colorbar()\n",
        "plt.xlabel('Truth')\n",
        "plt.ylabel('Predicted')\n",
        "\n",
        "\n",
        "print(classification_report(y_test, pred_test,target_names=['star','galaxy']))"
      ],
      "execution_count": 21,
      "outputs": [
        {
          "output_type": "stream",
          "name": "stdout",
          "text": [
            "              precision    recall  f1-score   support\n",
            "\n",
            "        star       0.93      0.86      0.90     20090\n",
            "      galaxy       0.95      0.98      0.96     52510\n",
            "\n",
            "    accuracy                           0.94     72600\n",
            "   macro avg       0.94      0.92      0.93     72600\n",
            "weighted avg       0.94      0.94      0.94     72600\n",
            "\n"
          ]
        },
        {
          "output_type": "display_data",
          "data": {
            "image/png": "[encoded data removed]",
            "text/plain": [
              "<Figure size 432x288 with 2 Axes>"
            ]
          },
          "metadata": {
            "needs_background": "light"
          }
        }
      ]
    },
    {
      "cell_type": "code",
      "metadata": {
        "id": "Lu9C45rcu1Dx"
      },
      "source": [
        "clf = ABC(base_estimator=DT(max_depth=5), n_estimators=50, random_state=0)"
      ],
      "execution_count": 28,
      "outputs": []
    },
    {
      "cell_type": "code",
      "metadata": {
        "id": "w_SKaIZewjjk",
        "colab": {
          "base_uri": "https://localhost:8080/"
        },
        "outputId": "443c53d9-3a02-4b89-87de-79d8279586d9"
      },
      "source": [
        "clf = clf.fit(x_train, y_train)\n",
        "\n",
        "#replace None\n",
        "pred_train  = clf.predict(x_train)\n",
        "pred_test = clf.predict(x_test)\n",
        "\n",
        "mse_test = mean_squared_error(y_test, pred_test)\n",
        "mse_train = mean_squared_error(y_train, pred_train)\n",
        "\n",
        "print(mse_test, mse_train)"
      ],
      "execution_count": 29,
      "outputs": [
        {
          "output_type": "stream",
          "name": "stdout",
          "text": [
            "0.05574380165289256 0.04841975495699006\n"
          ]
        }
      ]
    },
    {
      "cell_type": "code",
      "metadata": {
        "id": "OXxvy91wzgnb",
        "colab": {
          "base_uri": "https://localhost:8080/",
          "height": 448
        },
        "outputId": "c1a23bb3-1d43-4391-f5ac-6c25b17cbbcd"
      },
      "source": [
        "plt.imshow(confusion_matrix(y_test, pred_test,normalize='true'))\n",
        "plt.colorbar()\n",
        "plt.xlabel('Truth')\n",
        "plt.ylabel('Predicted')\n",
        "\n",
        "\n",
        "print(classification_report(y_test, pred_test,target_names=['star','galaxy']))"
      ],
      "execution_count": 30,
      "outputs": [
        {
          "output_type": "stream",
          "name": "stdout",
          "text": [
            "              precision    recall  f1-score   support\n",
            "\n",
            "        star       0.91      0.89      0.90     20090\n",
            "      galaxy       0.96      0.97      0.96     52510\n",
            "\n",
            "    accuracy                           0.94     72600\n",
            "   macro avg       0.93      0.93      0.93     72600\n",
            "weighted avg       0.94      0.94      0.94     72600\n",
            "\n"
          ]
        },
        {
          "output_type": "display_data",
          "data": {
            "image/png": "[encoded data removed]",
            "text/plain": [
              "<Figure size 432x288 with 2 Axes>"
            ]
          },
          "metadata": {
            "needs_background": "light"
          }
        }
      ]
    },
    {
      "cell_type": "code",
      "metadata": {
        "id": "LSkwNKCgzwSd"
      },
      "source": [
        ""
      ],
      "execution_count": 29,
      "outputs": []
    },
    {
      "cell_type": "code",
      "metadata": {
        "id": "j7BBLnrH0dj4",
        "colab": {
          "base_uri": "https://localhost:8080/",
          "height": 287
        },
        "outputId": "897b144d-c8a5-40bb-c7e4-3e64680760af"
      },
      "source": [
        "plt.plot(inputs[:,2],inputs[:,9],',')\n",
        "plt.xlim([5,30])\n",
        "plt.ylim([-5,10])"
      ],
      "execution_count": null,
      "outputs": [
        {
          "output_type": "execute_result",
          "data": {
            "text/plain": [
              "(-5.0, 10.0)"
            ]
          },
          "metadata": {},
          "execution_count": 105
        },
        {
          "output_type": "display_data",
          "data": {
            "image/png": "[encoded data removed]",
            "text/plain": [
              "<Figure size 432x288 with 1 Axes>"
            ]
          },
          "metadata": {
            "needs_background": "light"
          }
        }
      ]
    },
    {
      "cell_type": "code",
      "metadata": {
        "id": "V5szKKgp_IOG"
      },
      "source": [
        ""
      ],
      "execution_count": 29,
      "outputs": []
    },
    {
      "cell_type": "code",
      "metadata": {
        "id": "8bfT6rTG_prz"
      },
      "source": [
        ""
      ],
      "execution_count": null,
      "outputs": []
    }
  ]
}