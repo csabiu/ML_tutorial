{
  "nbformat": 4,
  "nbformat_minor": 0,
  "metadata": {
    "colab": {
      "name": "Untitled2.ipynb",
      "provenance": [],
      "include_colab_link": true
    },
    "kernelspec": {
      "name": "python2",
      "display_name": "Python 2"
    }
  },
  "cells": [
    {
      "cell_type": "markdown",
      "metadata": {
        "id": "view-in-github",
        "colab_type": "text"
      },
      "source": [
        "<a href=\"https://colab.research.google.com/github/csabiu/ML_tutorial/blob/master/DT_photoz.ipynb\" target=\"_parent\"><img src=\"https://colab.research.google.com/assets/colab-badge.svg\" alt=\"Open In Colab\"/></a>"
      ]
    },
    {
      "cell_type": "markdown",
      "metadata": {
        "id": "0wjF-C5Xv3m1"
      },
      "source": [
        "Supervised Regression problem\n",
        "\n",
        "In this notebook we will use decision tree and random forests algorihtms to learn a mapping between galaxy magnitudes and colors and the spectroscopic redshift.\n",
        "\n",
        "We will construct some learning curves to determine the best choices of the algorihtms.\n",
        "\n",
        "We will then use feature importance to understand which of the features give us the most predictive power, and then train a very simiple algorithm with reduced feature list.\n"
      ]
    },
    {
      "cell_type": "markdown",
      "metadata": {
        "id": "E-MsBQHtvoAT"
      },
      "source": [
        "# Load some libraries"
      ]
    },
    {
      "cell_type": "code",
      "metadata": {
        "id": "srdVtr1P8qYS"
      },
      "source": [
        "%matplotlib inline\n",
        "import numpy as np\n",
        "import matplotlib.pyplot as plt\n",
        "from astropy.table import Table\n",
        "from sklearn.model_selection import train_test_split\n",
        "!pip install gdown"
      ],
      "execution_count": null,
      "outputs": []
    },
    {
      "cell_type": "markdown",
      "metadata": {
        "id": "4QhIBa43vuFu"
      },
      "source": [
        "# Doanload the dataset"
      ]
    },
    {
      "cell_type": "code",
      "metadata": {
        "id": "2LNFZAh78sBp"
      },
      "source": [
        "import gdown\n",
        "!gdown https://drive.google.com/uc?id=1Wdy5-wnVFaRK-Xx3j4osQsMDoA6O9VeB"
      ],
      "execution_count": null,
      "outputs": []
    },
    {
      "cell_type": "markdown",
      "metadata": {
        "id": "NguL_fy5vz3f"
      },
      "source": [
        "# Clean the data"
      ]
    },
    {
      "cell_type": "code",
      "metadata": {
        "id": "y8nzv2AU82wk"
      },
      "source": [
        "d = Table.read('SpecPhotodr14_hoyleb.csv.sampled.fits.bz2')\n",
        "# will perform a bit of data cleaning.\n",
        "d = d[d['SPEC_Z'] < 1.0]\n",
        "d = d[d['SPEC_Z'] > 1e-3]"
      ],
      "execution_count": null,
      "outputs": []
    },
    {
      "cell_type": "code",
      "metadata": {
        "id": "MqpfzYkpAYY9"
      },
      "source": [
        "#you can look at the all the features available to you\n",
        "# http://skyserver.sdss.org/dr14/en/help/browser/browser.aspx#&&history=description+PhotoObj+V\n",
        "print (d.keys())"
      ],
      "execution_count": null,
      "outputs": []
    },
    {
      "cell_type": "code",
      "metadata": {
        "id": "KPsQqtdoAstE"
      },
      "source": [
        "# we will use just dereddend magnitudes \n",
        "mags = ['DERED_U', 'DERED_G', 'DERED_R','DERED_I','DERED_Z']\n",
        "d=d[d[mags[0]]!='null']\n",
        "d=d[d[mags[1]]!='null']\n",
        "d=d[d[mags[2]]!='null']\n",
        "d=d[d[mags[3]]!='null']\n",
        "d=d[d[mags[4]]!='null']\n",
        "\n",
        "def f(x):\n",
        "    return np.float(x)\n",
        "f2 = np.vectorize(f)\n",
        "\n",
        "#and color combinations created from them.\n",
        "cols= []\n",
        "for i in range(len(mags)-1):\n",
        "    for j in range(i, len(mags)):\n",
        "        cols.append(mags[i]+'-' + mags[j])\n",
        "\n",
        "# let's load these into an input array\n",
        "inputs = np.zeros((len(d), len(mags+cols)), dtype=float)\n",
        "for i, key in enumerate(mags):\n",
        "    inputs[:, i] = np.array(d[key])\n",
        "\n",
        "cnt = len(mags)\n",
        "for i in range(len(mags)-1):\n",
        "    for j in range(i, len(mags)):\n",
        "        inputs[:, cnt] = np.array(f2(d[mags[i]])) - np.array(f2(d[mags[j]]))\n",
        "        cnt += 1\n"
      ],
      "execution_count": null,
      "outputs": []
    },
    {
      "cell_type": "markdown",
      "metadata": {
        "id": "oiMEo0uhwJ0h"
      },
      "source": [
        "# for photo-z work\n",
        "# The target/label values are spectroscopic redshifts"
      ]
    },
    {
      "cell_type": "code",
      "metadata": {
        "id": "Y0pWLAQaeLVR"
      },
      "source": [
        "targets = np.array(f2(d['SPEC_Z']))"
      ],
      "execution_count": null,
      "outputs": []
    },
    {
      "cell_type": "markdown",
      "metadata": {
        "id": "X0lrilnUwEbY"
      },
      "source": [
        "# we will split the data into a trainind and testing sample.\n"
      ]
    },
    {
      "cell_type": "code",
      "metadata": {
        "id": "9oDjSGp8eQ3v"
      },
      "source": [
        "x_train, x_test, y_train, y_test = train_test_split(inputs, targets, test_size=0.4, random_state=42)\n"
      ],
      "execution_count": null,
      "outputs": []
    },
    {
      "cell_type": "code",
      "metadata": {
        "id": "mtmevGYoeVHw"
      },
      "source": [
        "from sklearn.tree import DecisionTreeRegressor as DT\n",
        "from sklearn.metrics import mean_squared_error\n",
        "from sklearn.metrics import confusion_matrix\n",
        "    \n",
        "#see https://scikit-learn.org/stable/modules/tree.html\n",
        "\n",
        "#help(DT)"
      ],
      "execution_count": null,
      "outputs": []
    },
    {
      "cell_type": "markdown",
      "metadata": {
        "id": "zgr1dWAgwLXP"
      },
      "source": [
        "#let's train [.fit()]  a tree on the training sample, and then make predictions on the test sample"
      ]
    },
    {
      "cell_type": "code",
      "metadata": {
        "id": "Vp0y_7ODeYdq"
      },
      "source": [
        "clf = DT(random_state=0, max_depth=2)\n",
        "clf = clf.fit(x_train, y_train)\n",
        "\n",
        "pred_train  = clf.predict(x_train)\n",
        "pred_test = clf.predict(x_test)\n",
        "\n",
        "mse_test = mean_squared_error(y_test, pred_test)\n",
        "mse_train = mean_squared_error(y_train, pred_train)\n",
        "plt.plot(pred_test,y_test, '.')#, label='test MSE={:0.2f}'.format(mse_test))\n",
        "plt.legend()\n",
        "plt.xlabel('ML [1xDT] photo-z')\n",
        "plt.ylabel('Spec-z')\n",
        "plt.xlim([0,1])\n",
        "plt.ylim([0,1])\n",
        "\n",
        "print mse_test, mse_train\n"
      ],
      "execution_count": null,
      "outputs": []
    },
    {
      "cell_type": "markdown",
      "metadata": {
        "id": "SGJSrladxTjS"
      },
      "source": [
        "# Show graph"
      ]
    },
    {
      "cell_type": "code",
      "metadata": {
        "id": "kIFpfpP0fFbP"
      },
      "source": [
        "from sklearn.externals.six import StringIO  \n",
        "from IPython.display import Image  \n",
        "from sklearn.tree import export_graphviz\n",
        "import pydotplus\n",
        "\n",
        "dot_data=export_graphviz(clf)\n",
        "\n",
        "graph = pydotplus.graph_from_dot_data(dot_data)  \n",
        "\n",
        "Image(graph.create_png())"
      ],
      "execution_count": null,
      "outputs": []
    },
    {
      "cell_type": "code",
      "metadata": {
        "id": "EAfhtRDtfF0F"
      },
      "source": [
        "\n"
      ],
      "execution_count": null,
      "outputs": []
    },
    {
      "cell_type": "markdown",
      "metadata": {
        "id": "xkUKwb4lxVG-"
      },
      "source": [
        "# Lets increase the number of trees -> forest"
      ]
    },
    {
      "cell_type": "code",
      "metadata": {
        "id": "TIOIWzGmf5hJ"
      },
      "source": [
        "#for regression [photo-z]\n",
        "from sklearn.ensemble import RandomForestRegressor\n",
        "from sklearn.ensemble import AdaBoostRegressor\n",
        "\n",
        "clf = RandomForestRegressor(max_depth=8,n_estimators=50)"
      ],
      "execution_count": null,
      "outputs": []
    },
    {
      "cell_type": "code",
      "metadata": {
        "id": "dG6SjoWmu9GN"
      },
      "source": [
        "clf = clf.fit(x_train, y_train)\n",
        "\n",
        "#replace None\n",
        "pred_train  = clf.predict(x_train)\n",
        "pred_test = clf.predict(x_test)\n",
        "\n",
        "mse_test = mean_squared_error(y_test, pred_test)\n",
        "mse_train = mean_squared_error(y_train, pred_train)\n",
        "plt.plot(pred_test,y_test, '.')#, label='test MSE={:0.2f}'.format(mse_test))\n",
        "plt.xlabel('ML [50xDT] photo-z')\n",
        "plt.ylabel('Spec-z')\n",
        "plt.xlim([0,1])\n",
        "plt.ylim([0,1])\n",
        "\n",
        "print mse_test, mse_train"
      ],
      "execution_count": null,
      "outputs": []
    },
    {
      "cell_type": "code",
      "metadata": {
        "id": "dPGyeTqpvJwu"
      },
      "source": [
        "plt.hist2d(pred_test,y_test, bins=50)\n",
        "plt.xlabel('ML [50xDT] photo-z')\n",
        "plt.ylabel('Spec-z')\n",
        "plt.plot([0,1],[0,1],'w--')\n",
        "plt.xlim([0,1])\n",
        "plt.ylim([0,1])"
      ],
      "execution_count": null,
      "outputs": []
    },
    {
      "cell_type": "code",
      "metadata": {
        "id": "Lu9C45rcu1Dx"
      },
      "source": [
        "specz=[0.5,0.55]\n",
        "a=plt.hist(pred_test[(y_test>specz[0]) & (y_test<specz[1])],30)\n",
        "plt.plot([specz[0],specz[0]],[0,1.1*np.max(a[0])],'r--')\n",
        "plt.plot([specz[1],specz[1]],[0,1.1*np.max(a[0])],'r--')"
      ],
      "execution_count": null,
      "outputs": []
    },
    {
      "cell_type": "code",
      "metadata": {
        "id": "w_SKaIZewjjk"
      },
      "source": [
        ""
      ],
      "execution_count": null,
      "outputs": []
    }
  ]
}